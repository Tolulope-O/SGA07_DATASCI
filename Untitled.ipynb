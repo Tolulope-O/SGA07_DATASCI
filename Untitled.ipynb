{
 "cells": [
  {
   "cell_type": "code",
   "execution_count": 2,
   "metadata": {},
   "outputs": [],
   "source": [
    "import pandas as pd"
   ]
  },
  {
   "cell_type": "code",
   "execution_count": 3,
   "metadata": {},
   "outputs": [],
   "source": [
    "humanInteraction = [\"genotype\", \"temperature\", \"socio-economic status\", \"gender\", \"income level\", \"credit score\", \"race\", \"satisfaction rating\", \"weight\", \"political party\"]"
   ]
  },
  {
   "cell_type": "code",
   "execution_count": 8,
   "metadata": {},
   "outputs": [],
   "source": [
    "characteristics = {\"genotype\": [\"AA\"], \"temperature\": [\"34C\"], \"socio-economic status\": [\"Wealthy\"], \"gender\": [\"Male\"], \"income level\": [\"Average\"], \"credit score\": [\"Proficient\"], \"race\": [\"African\"], \"satisfaction rating\": [\"Good\"], \"weight\": [\"77kg\"], \"political party\": [\"JP\"]}"
   ]
  },
  {
   "cell_type": "code",
   "execution_count": 9,
   "metadata": {},
   "outputs": [
    {
     "name": "stdout",
     "output_type": "stream",
     "text": [
      "{'genotype': ['AA'], 'temperature': ['34C'], 'socio-economic status': ['Wealthy'], 'gender': ['Male'], 'income level': ['Average'], 'credit score': ['Proficient'], 'race': ['African'], 'satisfaction rating': ['Good'], 'weight': ['77kg'], 'political party': ['JP']}\n"
     ]
    }
   ],
   "source": [
    "print(characteristics)"
   ]
  },
  {
   "cell_type": "code",
   "execution_count": 10,
   "metadata": {},
   "outputs": [
    {
     "data": {
      "text/html": [
       "<div>\n",
       "<style scoped>\n",
       "    .dataframe tbody tr th:only-of-type {\n",
       "        vertical-align: middle;\n",
       "    }\n",
       "\n",
       "    .dataframe tbody tr th {\n",
       "        vertical-align: top;\n",
       "    }\n",
       "\n",
       "    .dataframe thead th {\n",
       "        text-align: right;\n",
       "    }\n",
       "</style>\n",
       "<table border=\"1\" class=\"dataframe\">\n",
       "  <thead>\n",
       "    <tr style=\"text-align: right;\">\n",
       "      <th></th>\n",
       "      <th>genotype</th>\n",
       "      <th>temperature</th>\n",
       "      <th>socio-economic status</th>\n",
       "      <th>gender</th>\n",
       "      <th>income level</th>\n",
       "      <th>credit score</th>\n",
       "      <th>race</th>\n",
       "      <th>satisfaction rating</th>\n",
       "      <th>weight</th>\n",
       "      <th>political party</th>\n",
       "    </tr>\n",
       "  </thead>\n",
       "  <tbody>\n",
       "    <tr>\n",
       "      <th>0</th>\n",
       "      <td>AA</td>\n",
       "      <td>34C</td>\n",
       "      <td>Wealthy</td>\n",
       "      <td>Male</td>\n",
       "      <td>Average</td>\n",
       "      <td>Proficient</td>\n",
       "      <td>African</td>\n",
       "      <td>Good</td>\n",
       "      <td>77kg</td>\n",
       "      <td>JP</td>\n",
       "    </tr>\n",
       "  </tbody>\n",
       "</table>\n",
       "</div>"
      ],
      "text/plain": [
       "  genotype temperature socio-economic status gender income level credit score  \\\n",
       "0       AA         34C               Wealthy   Male      Average   Proficient   \n",
       "\n",
       "      race satisfaction rating weight political party  \n",
       "0  African                Good   77kg              JP  "
      ]
     },
     "execution_count": 10,
     "metadata": {},
     "output_type": "execute_result"
    }
   ],
   "source": [
    "dataFrame = pd.DataFrame(characteristics)\n",
    "dataFrame"
   ]
  },
  {
   "cell_type": "code",
   "execution_count": 11,
   "metadata": {},
   "outputs": [],
   "source": [
    "humanInteraction = dataFrame.to_csv(r'/home/tolulope_o/SGA07_DATASCI/Data.csv')"
   ]
  },
  {
   "cell_type": "code",
   "execution_count": null,
   "metadata": {},
   "outputs": [],
   "source": []
  }
 ],
 "metadata": {
  "kernelspec": {
   "display_name": "Python 3",
   "language": "python",
   "name": "python3"
  },
  "language_info": {
   "codemirror_mode": {
    "name": "ipython",
    "version": 3
   },
   "file_extension": ".py",
   "mimetype": "text/x-python",
   "name": "python",
   "nbconvert_exporter": "python",
   "pygments_lexer": "ipython3",
   "version": "3.7.4"
  }
 },
 "nbformat": 4,
 "nbformat_minor": 2
}
